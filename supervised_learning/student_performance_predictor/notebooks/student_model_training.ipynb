{
 "cells": [
  {
   "cell_type": "code",
   "execution_count": 2,
   "id": "85a6e5e1",
   "metadata": {},
   "outputs": [
    {
     "data": {
      "text/plain": [
       "['../model/student_model.pkl']"
      ]
     },
     "execution_count": 2,
     "metadata": {},
     "output_type": "execute_result"
    }
   ],
   "source": [
    "import pandas as pd\n",
    "from sklearn.model_selection import train_test_split\n",
    "from sklearn.linear_model import LogisticRegression\n",
    "import joblib\n",
    "\n",
    "# Sample dataset\n",
    "data = pd.DataFrame({\n",
    "    \"StudyHours\": [1, 2, 3, 4, 5, 6, 7, 8],\n",
    "    \"attendance\": [40, 50, 60, 70, 80, 90, 95, 100],\n",
    "    \"PreviousScore\": [30, 40, 50, 60, 70, 80, 90, 95],\n",
    "    \"Result\": [0, 0, 0, 1, 1, 1, 1, 1]  # 0 = FAIL, 1 = PASS\n",
    "})\n",
    "\n",
    "X = data[[\"StudyHours\", \"attendance\", \"PreviousScore\"]]\n",
    "y = data[\"Result\"]\n",
    "\n",
    "# Train model\n",
    "model = LogisticRegression()\n",
    "model.fit(X, y)\n",
    "\n",
    "# Save model\n",
    "joblib.dump(model, \"../model/student_model.pkl\")\n"
   ]
  }
 ],
 "metadata": {
  "kernelspec": {
   "display_name": "Python 3",
   "language": "python",
   "name": "python3"
  },
  "language_info": {
   "codemirror_mode": {
    "name": "ipython",
    "version": 3
   },
   "file_extension": ".py",
   "mimetype": "text/x-python",
   "name": "python",
   "nbconvert_exporter": "python",
   "pygments_lexer": "ipython3",
   "version": "3.13.3"
  }
 },
 "nbformat": 4,
 "nbformat_minor": 5
}
